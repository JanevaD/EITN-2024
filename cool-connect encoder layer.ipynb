{
 "cells": [
  {
   "cell_type": "code",
   "execution_count": null,
   "id": "c6b4fd9f-9cf3-4456-8e71-d15213ed04b2",
   "metadata": {
    "tags": []
   },
   "outputs": [],
   "source": [
    "import nest\n",
    "import numpy as np\n",
    "import matplotlib.pyplot as pl\n",
    "from mpl_toolkits.mplot3d import Axes3D\n",
    "from sklearn.linear_model import LinearRegression\n",
    "from sklearn.decomposition import PCA\n",
    "from utils.extractors import filter_spikes_parallel\n",
    "import scipy"
   ]
  },
  {
   "cell_type": "code",
   "execution_count": null,
   "id": "099a4374-f33a-4254-a6ec-b683dbec2371",
   "metadata": {
    "tags": []
   },
   "outputs": [],
   "source": [
    "nest.ResetKernel()\n",
    "dt = .1\n",
    "duration = 3000 #ms\n",
    "#nest.resolution = 1.0\n",
    "# Parameters\n",
    "nEnc = 500  # number of neurons in the encoding layer\n",
    "J_bias = 200. # [pA] \n",
    "tuning = 250. * np.random.randn(nEnc) + 1000.\n"
   ]
  },
  {
   "cell_type": "code",
   "execution_count": null,
   "id": "a0317e01-6a48-40c3-9ba9-9d41649d8c7a",
   "metadata": {
    "tags": []
   },
   "outputs": [],
   "source": [
    "t_samples = np.arange(-100, 3500, 300)\n",
    "freq_samples = (np.random.random(t_samples.shape) * 1.5 + 0.5)/100\n",
    "\n",
    "t = np.arange(0, duration, dt)+dt\n",
    "\n",
    "dx = np.full_like(t, dt)       # Change in x\n",
    "\n",
    "interpolation = scipy.interpolate.interp1d(t_samples, freq_samples, kind='quadratic')\n",
    "freq = interpolation(t)\n",
    "\n",
    "x = (freq * dx ).cumsum()    # Cumsum freq * change in x\n",
    "\n",
    "signal = np.sin(x)+1+dt\n",
    "\n",
    "pl.plot(t, signal)\n",
    "pl.xlabel('Time [ms]')\n",
    "pl.ylabel(\"Amplitude\")\n"
   ]
  },
  {
   "cell_type": "code",
   "execution_count": null,
   "id": "aa1e3063-3ad7-4151-84de-525aaf502f6f",
   "metadata": {
    "tags": []
   },
   "outputs": [],
   "source": [
    "print(len(signal))"
   ]
  },
  {
   "cell_type": "code",
   "execution_count": null,
   "id": "640a398a-102a-4df3-9ef1-158dcd8538c1",
   "metadata": {
    "tags": []
   },
   "outputs": [],
   "source": [
    "print(len(t))"
   ]
  },
  {
   "cell_type": "code",
   "execution_count": null,
   "id": "c681090e-2df5-4922-94df-f0a55406d3e2",
   "metadata": {
    "tags": []
   },
   "outputs": [],
   "source": [
    "thresholds = 5 * np.random.randn(nEnc) - 50.\n",
    "Vm0 = np.array(np.random.uniform(low=-70., high=-50., size=int(nEnc)))"
   ]
  },
  {
   "cell_type": "code",
   "execution_count": null,
   "id": "8bea34b2-c38f-4488-91ab-71ee3a0c16d0",
   "metadata": {
    "tags": []
   },
   "outputs": [],
   "source": [
    "enc_layer = nest.Create('iaf_psc_delta', nEnc, {'I_e': J_bias})\n",
    "alpha = 2.5  # Exponent for power-law distribution\n",
    "\n",
    "# Function to generate power-law distributed weights\n",
    "def generate_power_law_weights(n, alpha):\n",
    "    \"\"\"Generates power-law distributed weights.\"\"\"\n",
    "    weights = np.random.pareto(alpha, size=n) + 1  # Pareto distribution (shifted)\n",
    "    return weights\n",
    "\n",
    "# Generate power-law distributed weights for the connections\n",
    "n_connections = int(nEnc * 0.1)  # Example: 10% of possible connections per neuron\n",
    "weights = generate_power_law_weights(n_connections, alpha)\n",
    "\n",
    "# Define the connection rule and synapse specification\n",
    "conn_params = {\n",
    "    \"rule\": \"pairwise_bernoulli\",\n",
    "    \"p\": 0.1  # Probability of connection (adjust as needed)\n",
    "}\n",
    "\n",
    "syn_params = {\n",
    "    \"weight\": np.mean(weights),  # Use the mean or adjust the weight distribution\n",
    "    \"delay\": 1.5  # Example synaptic delay\n",
    "}\n",
    "\n",
    "# Connect neurons in the encoding layer using the power-law distributed weights\n",
    "nest.Connect(enc_layer, enc_layer, conn_params, syn_params)"
   ]
  },
  {
   "cell_type": "code",
   "execution_count": null,
   "id": "7912994d-03dd-45bb-a049-f5026116b701",
   "metadata": {
    "tags": []
   },
   "outputs": [],
   "source": [
    "step_generator = nest.Create('step_current_generator', nEnc)\n",
    "amplitudes = np.zeros((nEnc, len(signal)))\n",
    "for n in range(nEnc):\n",
    "    amplitudes[n, :] = signal * tuning[n]\n",
    "    enc_layer[n].set({'V_m': Vm0[n], 'V_th': thresholds[n]})\n",
    "    #print(len(amplitudes[0]), len(t))\n",
    "    step_generator[n].set({'amplitude_times': t, 'amplitude_values': amplitudes[n]})\n",
    "    nest.Connect(step_generator[n], enc_layer[n])"
   ]
  },
  {
   "cell_type": "code",
   "execution_count": null,
   "id": "1f4d47c1-2a15-4919-9b0c-5d6a41504177",
   "metadata": {
    "tags": []
   },
   "outputs": [],
   "source": [
    "pl.plot(t, amplitudes[0])"
   ]
  },
  {
   "cell_type": "code",
   "execution_count": null,
   "id": "ef62b51f-630c-4374-9e23-1d9bcdca5aa1",
   "metadata": {
    "tags": []
   },
   "outputs": [],
   "source": [
    "len(amplitudes[0])"
   ]
  },
  {
   "cell_type": "code",
   "execution_count": null,
   "id": "2e7f63f1-67e0-47a1-b966-ee88d0438b2e",
   "metadata": {
    "tags": []
   },
   "outputs": [],
   "source": [
    "enc_spks = nest.Create('spike_recorder')\n",
    "nest.Connect(enc_layer, enc_spks)\n"
   ]
  },
  {
   "cell_type": "code",
   "execution_count": null,
   "id": "ce0782bc-3110-4a8b-84a6-8c322a0d3d59",
   "metadata": {
    "tags": []
   },
   "outputs": [],
   "source": [
    "#### PARAMETERS ###\n",
    "# network parameters\n",
    "gamma = 0.25               # relative number of inhibitory connections\n",
    "NE = 1000                  # number of excitatory neurons (10.000 in [1])\n",
    "NI = int(gamma * NE)       # number of inhibitory neurons\n",
    "CE = 200                  # indegree from excitatory neurons\n",
    "CI = int(gamma * CE)       # indegree from inhibitory neurons\n",
    "\n",
    "# synapse parameters\n",
    "w = 0.1                    # excitatory synaptic weight (mV)\n",
    "g = 5.                     # relative inhibitory to excitatory synaptic weight\n",
    "d = 1.5                    # synaptic transmission delay (ms)\n",
    "\n",
    "# neuron paramters\n",
    "neuron_params = {\n",
    "    'C_m': 1.0,            # membrane capacity (pF)\n",
    "    'E_L': 0.,             # resting membrane potential (mV)\n",
    "    'I_e': 0.,             # external input current (pA)\n",
    "    'V_m': 0.,             # membrane potential (mV)\n",
    "    'V_reset': 10.,        # reset membrane potential after a spike (mV)\n",
    "    'V_th': 20.,           # spike threshold (mV)\n",
    "    't_ref': 2.0,          # refractory period (ms)\n",
    "    'tau_m': 20.,          # membrane time constant (ms)\n",
    "}\n",
    "# set default parameters for neurons and create neurons\n",
    "nest.SetDefaults('iaf_psc_delta', neuron_params)\n",
    "neurons_e = nest.Create('iaf_psc_delta', NE)\n",
    "neurons_i = nest.Create('iaf_psc_delta', NI)\n",
    "\n",
    "# create spike detectors\n",
    "spikes_e = nest.Create('spike_recorder')\n",
    "# E synapses\n",
    "syn_exc = {'delay': d, 'weight': w}\n",
    "conn_exc = {'rule': 'fixed_indegree', 'indegree': CE}\n",
    "nest.Connect(neurons_e, neurons_e, conn_exc, syn_exc)\n",
    "nest.Connect(neurons_e, neurons_i, conn_exc, syn_exc)\n",
    "\n",
    "# I synapses\n",
    "syn_inh = {'delay': d, 'weight': - g * w}\n",
    "conn_inh = {'rule': 'fixed_indegree', 'indegree': CI}\n",
    "nest.Connect(neurons_i, neurons_e, conn_inh, syn_inh)\n",
    "nest.Connect(neurons_i, neurons_i, conn_inh, syn_inh)\n",
    "\n",
    "# spike detector\n",
    "nest.Connect(neurons_e, spikes_e)"
   ]
  },
  {
   "cell_type": "code",
   "execution_count": null,
   "id": "5fb14b19-bc5e-47b6-a8a1-18162f7ef948",
   "metadata": {},
   "outputs": [],
   "source": [
    "nest.Connect(enc_layer, neurons_e, conn_exc, syn_exc)\n",
    "nest.Connect(enc_layer, neurons_i, conn_exc, syn_exc)"
   ]
  },
  {
   "cell_type": "code",
   "execution_count": null,
   "id": "af3e5988-be3d-4b81-8ba7-4270bf0212bc",
   "metadata": {},
   "outputs": [],
   "source": [
    "nest.Simulate(len(t))"
   ]
  },
  {
   "cell_type": "code",
   "execution_count": null,
   "id": "15ac0d21-a95c-41bc-8032-49e9a8373aa6",
   "metadata": {
    "tags": []
   },
   "outputs": [],
   "source": [
    "#this filters the spikes from the encoding layer \n",
    "filter_tau = 20. # [ms]\n",
    "num_threads = 8\n",
    "t_stop = len(t)/10\n",
    "\n",
    "enc_activity = enc_spks.events\n",
    "enc_states = filter_spikes_parallel(enc_activity['times'], enc_activity['senders'], nEnc, t_start=0., \n",
    "                                    t_stop=t_stop, dt=dt, tau=filter_tau, n_processes=num_threads)\n",
    "\n",
    "\n",
    "e_activity = spikes_e.events\n",
    "# e_states = filter_spikes(e_activity['times'], e_activity['senders'], NE, t_start=0., t_stop=T*duration, dt=dt, tau=filter_tau)\n",
    "\n",
    "# if you can use parallelization, it can be very useful here:\n",
    "e_states = filter_spikes_parallel(e_activity['times'], e_activity['senders'], NE, t_start=0., t_stop=t_stop, \n",
    "                                  dt=dt, tau=filter_tau, n_processes=num_threads)"
   ]
  },
  {
   "cell_type": "code",
   "execution_count": null,
   "id": "8cd8a999-376a-478d-9311-9a21ce1db354",
   "metadata": {
    "tags": []
   },
   "outputs": [],
   "source": [
    "def compute_capacity(x, z):\n",
    "    \"\"\"\n",
    "    Compute capacity to reconstruct z based on linearly combining x\n",
    "\n",
    "    Parameters\n",
    "    ----------\n",
    "    x : np.ndarray\n",
    "        state matrix(NxT)\n",
    "    z : np.ndarray\n",
    "        target output (1xT)\n",
    "\n",
    "    Returns\n",
    "    -------\n",
    "    z_hat : np.ndarray\n",
    "        Reconstructed (predicted) signal\n",
    "\n",
    "    \"\"\"\n",
    "    reg = LinearRegression(n_jobs=-1, fit_intercept=False).fit(x.T, z)\n",
    "    W_out = reg.coef_\n",
    "    z_hat = np.dot(W_out, x)\n",
    "\n",
    "    covs = np.cov(z_hat, z)[0, 1] ** 2.0\n",
    "    vars = np.var(z) * np.var(z_hat)\n",
    "    capacity = covs / vars\n",
    "\n",
    "    error = np.mean((z - z_hat) ** 2)\n",
    "    return z_hat, capacity, error\n",
    "\n",
    "enc_estimate, enc_capacity, enc_error = compute_capacity(enc_states, signal)\n",
    "circ_estimate, circ_capacity, circ_error = compute_capacity(e_states, signal)\n",
    "\n",
    "print(\"Encoding Layer: \\n\\t- Capacity={0}, MSE={1}\".format(str(enc_capacity), str(enc_error)))\n",
    "print(\"Main Circuit: \\n\\t- Capacity={0}, MSE={1}\".format(str(circ_capacity), str(circ_error)))"
   ]
  },
  {
   "cell_type": "code",
   "execution_count": null,
   "id": "15165b29-ac1e-47cf-aa2f-df44bbb03a68",
   "metadata": {
    "tags": []
   },
   "outputs": [],
   "source": [
    "e_states.shape\n"
   ]
  },
  {
   "cell_type": "code",
   "execution_count": null,
   "id": "d48d9430-9a1e-4d6a-974c-dfbd23f640d4",
   "metadata": {
    "tags": []
   },
   "outputs": [],
   "source": [
    "fig = pl.figure()\n",
    "fig.suptitle('Encoding Layer [C={0}]'.format(str(enc_capacity)))\n",
    "ax11 = fig.add_subplot(211)\n",
    "ax12 = fig.add_subplot(212, sharex=ax11)\n",
    "ax11.plot(enc_activity['times'], enc_activity['senders'], '.k', markersize=0.3)\n",
    "ax11.set_xlim([0., len(t)/10])\n",
    "ax12.plot(t, signal, 'r', linewidth=2)\n",
    "ax12.plot(t, enc_estimate, 'k', linewidth=1)\n",
    "ax12.set_xlabel(r'Time [ms]')\n",
    "pl.show()"
   ]
  },
  {
   "cell_type": "code",
   "execution_count": null,
   "id": "854383d6-eef3-478b-be36-04f0e480e7e1",
   "metadata": {},
   "outputs": [],
   "source": [
    "fig = pl.figure()\n",
    "fig.suptitle('Processing Layer [C={0}]'.format(str(circ_capacity)))\n",
    "ax11 = fig.add_subplot(211)\n",
    "ax12 = fig.add_subplot(212, sharex=ax11)\n",
    "ax11.plot(e_activity['times'], e_activity['senders'], '.b', markersize=1)\n",
    "ax11.set_xlim([0., len(t)/10])\n",
    "ax12.plot(t, signal, 'r', linewidth=2)\n",
    "ax12.plot(t, circ_estimate, 'b', linewidth=1)\n",
    "ax12.set_xlabel(r'Time [ms]')\n",
    "pl.show()"
   ]
  },
  {
   "cell_type": "code",
   "execution_count": null,
   "id": "dd9031ee-a738-44a3-8bd6-3641adb0cc3b",
   "metadata": {},
   "outputs": [],
   "source": [
    "fig = pl.figure()\n",
    "ax1 = fig.add_subplot(221)\n",
    "ax1.imshow(enc_states, aspect='auto')\n",
    "ax2 = fig.add_subplot(222, projection='3d')\n",
    "pca_fit_enc = PCA(n_components=np.shape(enc_states)[0])\n",
    "X_enc = pca_fit_enc.fit_transform(enc_states.T)\n",
    "ax2.plot(X_enc[:, 0], X_enc[:, 1], X_enc[:, 2], color='k', lw=1)\n",
    "ax3 = fig.add_subplot(223)\n",
    "ax3.imshow(e_states, aspect='auto')\n",
    "ax4 = fig.add_subplot(224, projection='3d')\n",
    "pca_fit_enc = PCA(n_components=np.shape(e_states)[0])\n",
    "X_cir = pca_fit_enc.fit_transform(e_states.T)\n",
    "ax4.plot(X_cir[:, 0], X_cir[:, 1], X_cir[:, 2], color='b', lw=1)\n",
    "pl.show()"
   ]
  },
  {
   "cell_type": "code",
   "execution_count": null,
   "id": "e0bd08d1-9410-4813-8e7f-2da9c71f7e1c",
   "metadata": {
    "tags": []
   },
   "outputs": [],
   "source": [
    "max_lag = 100.  # [ms] in this example\n",
    "step_lag = 10.  # [ms] - if != dt (index the time axis)\n",
    "time_lags = np.arange(0., max_lag, step_lag)\n",
    "indices = [np.where(idx == time_vector)[0][0] for idx in time_lags]\n",
    "\n",
    "encoder_capacity = []\n",
    "circuit_capacity = []\n",
    "\n",
    "for idx, lag in zip(indices, time_lags):\n",
    "\n",
    "\t# shift the target signal\n",
    "\tif idx > 0:\n",
    "\t\tshifted_signal = signal[:-idx]\n",
    "\telse:\n",
    "\t\tshifted_signal = signal\n",
    "\n",
    "\t# shift the population states\n",
    "\tenc_st = enc_states[:, idx:]\n",
    "\tcirc_st = e_states[:, idx:]\n",
    "\n",
    "\t# compute capacity\n",
    "\tenc_estimate, enc_capacity, enc_error = compute_capacity(enc_st, shifted_signal)\n",
    "\tcirc_estimate, circ_capacity, circ_error = compute_capacity(circ_st, shifted_signal)\n",
    "\n",
    "\tprint(\"Lag = {0} ms\".format(str(lag)))\n",
    "\tprint(\"Encoding Layer: \\n\\t- Capacity={0}, MSE={1}\".format(str(enc_capacity), str(enc_error)))\n",
    "\tprint(\"Main Circuit: \\n\\t- Capacity={0}, MSE={1}\".format(str(circ_capacity), str(circ_error)))\n",
    "\n",
    "\tencoder_capacity.append(enc_capacity)\n",
    "\tcircuit_capacity.append(circ_capacity)\n",
    "\n",
    "fig = pl.figure()\n",
    "ax1 = fig.add_subplot(121)\n",
    "ax2 = fig.add_subplot(122)\n",
    "\n",
    "ax1.plot(time_lags, encoder_capacity)\n",
    "ax2.plot(time_lags, circuit_capacity)\n",
    "\n",
    "pl.show()\n",
    "\n",
    "print(\"Total capacity (encoder): {0} ms\".format(str(np.sum(encoder_capacity)*step_lag)))\n",
    "print(\"Total capacity (processor): {0} ms\".format(str(np.sum(circuit_capacity)*step_lag)))"
   ]
  }
 ],
 "metadata": {
  "kernelspec": {
   "display_name": "Python 3 (ipykernel)",
   "language": "python",
   "name": "python3"
  },
  "language_info": {
   "codemirror_mode": {
    "name": "ipython",
    "version": 3
   },
   "file_extension": ".py",
   "mimetype": "text/x-python",
   "name": "python",
   "nbconvert_exporter": "python",
   "pygments_lexer": "ipython3",
   "version": "3.10.6"
  }
 },
 "nbformat": 4,
 "nbformat_minor": 5
}
